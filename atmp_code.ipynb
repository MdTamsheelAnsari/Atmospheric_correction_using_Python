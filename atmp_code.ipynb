{
 "cells": [
  {
   "cell_type": "code",
   "execution_count": 1,
   "metadata": {},
   "outputs": [],
   "source": [
    "# import ee\n",
    "# import geemap\n",
    "from Py6S import *\n",
    "import datetime\n",
    "import math\n",
    "import os\n",
    "from osgeo import gdal\n",
    "import rasterio as rio\n",
    "# sys.path.append(os.path.join(os.path.dirname(os.getcwd()),'bin'))\n",
    "import rioxarray as rxr\n",
    "import matplotlib.pyplot as plt\n",
    "import numpy as np\n",
    "import geopandas as gpd\n",
    "# from atmospheric import Atmospheric\n"
   ]
  },
  {
   "cell_type": "code",
   "execution_count": 2,
   "metadata": {},
   "outputs": [
    {
     "data": {
      "text/html": [
       "<p>To authorize access needed by Earth Engine, open the following\n",
       "        URL in a web browser and follow the instructions:</p>\n",
       "        <p><a href=https://code.earthengine.google.com/client-auth?scopes=https%3A//www.googleapis.com/auth/earthengine%20https%3A//www.googleapis.com/auth/devstorage.full_control&request_id=pRzBVMxXBZ8CeCuLEztc1ku-FDs95Nlsmr9Fw_72qx4&tc=qmjSXahtkDLQ0OOlK9s52zlTo6sCK6QzwBC8u1IaVGM&cc=UNO-HWZ4upf1WABqjeD2dNmSl5LZs06miOh-fD6wdaQ>https://code.earthengine.google.com/client-auth?scopes=https%3A//www.googleapis.com/auth/earthengine%20https%3A//www.googleapis.com/auth/devstorage.full_control&request_id=pRzBVMxXBZ8CeCuLEztc1ku-FDs95Nlsmr9Fw_72qx4&tc=qmjSXahtkDLQ0OOlK9s52zlTo6sCK6QzwBC8u1IaVGM&cc=UNO-HWZ4upf1WABqjeD2dNmSl5LZs06miOh-fD6wdaQ</a></p>\n",
       "        <p>The authorization workflow will generate a code, which you should paste in the box below.</p>\n",
       "        "
      ],
      "text/plain": [
       "<IPython.core.display.HTML object>"
      ]
     },
     "metadata": {},
     "output_type": "display_data"
    },
    {
     "name": "stdout",
     "output_type": "stream",
     "text": [
      "\n",
      "Successfully saved authorization token.\n"
     ]
    }
   ],
   "source": [
    "import ee\n",
    "import geemap\n",
    "\n",
    "ee.Authenticate()\n",
    "ee.Initialize()"
   ]
  },
  {
   "cell_type": "code",
   "execution_count": 81,
   "metadata": {},
   "outputs": [],
   "source": [
    "startDate = ee.Date('2018-04-01')\n",
    "endDate = ee.Date('2018-05-01')\n",
    "# geom = ee.Geometry.Point(88.91220182000018,22.700863529688942)# Ninh Thuan region\n",
    "# region = geom.buffer(60000).bounds().getInfo()['coordinates']"
   ]
  },
  {
   "cell_type": "code",
   "execution_count": 82,
   "metadata": {},
   "outputs": [
    {
     "data": {
      "application/vnd.jupyter.widget-view+json": {
       "model_id": "c4f6ac22709e49e287356213c8654d63",
       "version_major": 2,
       "version_minor": 0
      },
      "text/plain": [
       "Map(center=[23.653915918218225, 85.5539359645643], controls=(WidgetControl(options=['position', 'transparent_b…"
      ]
     },
     "metadata": {},
     "output_type": "display_data"
    }
   ],
   "source": [
    "Map = geemap.Map()\n",
    "jharkhand= ee.FeatureCollection('projects/ee-tamsheelansari1/assets/jharkhand')\n",
    "L8_col= ee.ImageCollection('LANDSAT/LC08/C02/T1_TOA').filterBounds(jharkhand).filterDate(startDate,endDate).filterMetadata('CLOUD_COVER','less_than',20)\n",
    "jh= L8_col.first()\n",
    "\n",
    "Map.addLayer(jharkhand,{},'jharkhand')\n",
    "Map.addLayer(jh,{'band':['B4','B3','B2'],'min':0,'max':0.25},'jh')\n",
    "Map.centerObject(jharkhand,6)\n",
    "\n",
    "\n",
    "Map"
   ]
  },
  {
   "cell_type": "code",
   "execution_count": 107,
   "metadata": {},
   "outputs": [
    {
     "name": "stdout",
     "output_type": "stream",
     "text": [
      "ee.ImageCollection({\n",
      "  \"functionInvocationValue\": {\n",
      "    \"functionName\": \"Collection.filter\",\n",
      "    \"arguments\": {\n",
      "      \"collection\": {\n",
      "        \"functionInvocationValue\": {\n",
      "          \"functionName\": \"Collection.filter\",\n",
      "          \"arguments\": {\n",
      "            \"collection\": {\n",
      "              \"functionInvocationValue\": {\n",
      "                \"functionName\": \"Collection.filter\",\n",
      "                \"arguments\": {\n",
      "                  \"collection\": {\n",
      "                    \"functionInvocationValue\": {\n",
      "                      \"functionName\": \"ImageCollection.load\",\n",
      "                      \"arguments\": {\n",
      "                        \"id\": {\n",
      "                          \"constantValue\": \"LANDSAT/LC08/C02/T1_TOA\"\n",
      "                        }\n",
      "                      }\n",
      "                    }\n",
      "                  },\n",
      "                  \"filter\": {\n",
      "                    \"functionInvocationValue\": {\n",
      "                      \"functionName\": \"Filter.intersects\",\n",
      "                      \"arguments\": {\n",
      "                        \"leftField\": {\n",
      "                          \"constantValue\": \".all\"\n",
      "                        },\n",
      "                        \"rightValue\": {\n",
      "                          \"functionInvocationValue\": {\n",
      "                            \"functionName\": \"Feature\",\n",
      "                            \"arguments\": {\n",
      "                              \"geometry\": {\n",
      "                                \"functionInvocationValue\": {\n",
      "                                  \"functionName\": \"Collection.geometry\",\n",
      "                                  \"arguments\": {\n",
      "                                    \"collection\": {\n",
      "                                      \"functionInvocationValue\": {\n",
      "                                        \"functionName\": \"Collection.loadTable\",\n",
      "                                        \"arguments\": {\n",
      "                                          \"tableId\": {\n",
      "                                            \"constantValue\": \"projects/ee-tamsheelansari1/assets/jharkhand\"\n",
      "                                          }\n",
      "                                        }\n",
      "                                      }\n",
      "                                    }\n",
      "                                  }\n",
      "                                }\n",
      "                              }\n",
      "                            }\n",
      "                          }\n",
      "                        }\n",
      "                      }\n",
      "                    }\n",
      "                  }\n",
      "                }\n",
      "              }\n",
      "            },\n",
      "            \"filter\": {\n",
      "              \"functionInvocationValue\": {\n",
      "                \"functionName\": \"Filter.dateRangeContains\",\n",
      "                \"arguments\": {\n",
      "                  \"leftValue\": {\n",
      "                    \"functionInvocationValue\": {\n",
      "                      \"functionName\": \"DateRange\",\n",
      "                      \"arguments\": {\n",
      "                        \"end\": {\n",
      "                          \"functionInvocationValue\": {\n",
      "                            \"functionName\": \"Date\",\n",
      "                            \"arguments\": {\n",
      "                              \"value\": {\n",
      "                                \"constantValue\": \"2018-05-01\"\n",
      "                              }\n",
      "                            }\n",
      "                          }\n",
      "                        },\n",
      "                        \"start\": {\n",
      "                          \"functionInvocationValue\": {\n",
      "                            \"functionName\": \"Date\",\n",
      "                            \"arguments\": {\n",
      "                              \"value\": {\n",
      "                                \"constantValue\": \"2018-04-01\"\n",
      "                              }\n",
      "                            }\n",
      "                          }\n",
      "                        }\n",
      "                      }\n",
      "                    }\n",
      "                  },\n",
      "                  \"rightField\": {\n",
      "                    \"constantValue\": \"system:time_start\"\n",
      "                  }\n",
      "                }\n",
      "              }\n",
      "            }\n",
      "          }\n",
      "        }\n",
      "      },\n",
      "      \"filter\": {\n",
      "        \"functionInvocationValue\": {\n",
      "          \"functionName\": \"Filter.lessThan\",\n",
      "          \"arguments\": {\n",
      "            \"leftField\": {\n",
      "              \"constantValue\": \"CLOUD_COVER\"\n",
      "            },\n",
      "            \"rightValue\": {\n",
      "              \"constantValue\": 20\n",
      "            }\n",
      "          }\n",
      "        }\n",
      "      }\n",
      "    }\n",
      "  }\n",
      "})\n",
      "19\n"
     ]
    }
   ],
   "source": [
    "print(L8_col)\n",
    "print(L8_col.size().getInfo())"
   ]
  },
  {
   "cell_type": "code",
   "execution_count": 108,
   "metadata": {},
   "outputs": [],
   "source": [
    "# L8_list = L8_col.toList(L8_col.size().getInfo())\n",
    "# img1 = ee.Image(L8_list.get(9))"
   ]
  },
  {
   "cell_type": "code",
   "execution_count": 109,
   "metadata": {},
   "outputs": [],
   "source": [
    "toa = jh"
   ]
  },
  {
   "cell_type": "code",
   "execution_count": 110,
   "metadata": {},
   "outputs": [],
   "source": [
    "# from IPython.display import display, Image\n",
    "\n",
    "# channels = ['B4','B3','B2']\n",
    "\n",
    "# original = Image(url=toa.select(channels).getThumbUrl({\n",
    "#                 'region':jharkhand,\n",
    "#                 'min':0,\n",
    "#                 'max':0.25\n",
    "            \n",
    "#                 }))\n",
    "# display(original)"
   ]
  },
  {
   "cell_type": "code",
   "execution_count": 126,
   "metadata": {},
   "outputs": [],
   "source": [
    "def func1(img):\n",
    "    img = ee.Image(img)\n",
    "    info = img.getInfo()['properties']\n",
    "    scene_date = datetime.datetime.utcfromtimestamp(info['system:time_start']/1000)\n",
    "    solar_elv = img.getInfo()['properties']['SUN_ELEVATION']\n",
    "    solar_z = ee.Number(90).subtract(solar_elv).getInfo()\n",
    "    # h2o = 0.3\n",
    "    # o3 = 0.7\n",
    "    # aot = 0.8\n",
    "    SRTM = ee.Image('CGIAR/SRTM90_V4')# Shuttle Radar Topography mission covers *most* of the Earth\n",
    "    alt = SRTM.reduceRegion(reducer = ee.Reducer.mean(),geometry =jharkhand, scale= 100).get('elevation').getInfo()\n",
    "    \n",
    "    km = (alt)/(1000) # i.e. Py6S uses units of kilometers\n",
    "    # Instantiate\n",
    "    s = SixS()\n",
    "    # Atmospheric constituents\n",
    "    # s.atmos_profile = AtmosProfile.UserWaterAndOzone(h2o,o3)\n",
    "    s.aero_profile = AeroProfile.Continental\n",
    "    # s.aot550 = aot\n",
    "    # Earth-Sun-satellite geometry\n",
    "    s.geometry = Geometry.User()\n",
    "    s.geometry.view_z = 0               # always NADIR (I think..)\n",
    "    s.geometry.solar_z = solar_z        # solar zenith angle\n",
    "    # s.geometry.solar_z = solar_z # solar zenith angle\n",
    "    s.geometry.month = scene_date.month # month and day used for Earth-Sun distance\n",
    "    s.geometry.day = scene_date.day     # month and day used for Earth-Sun distance\n",
    "    s.altitudes.set_sensor_satellite_level()\n",
    "    s.altitudes.set_target_custom_altitude(0.3)\n"
   ]
  },
  {
   "cell_type": "code",
   "execution_count": 127,
   "metadata": {},
   "outputs": [],
   "source": [
    "func1(toa)"
   ]
  },
  {
   "cell_type": "code",
   "execution_count": 128,
   "metadata": {},
   "outputs": [],
   "source": [
    "def spectralResponseFunction(bandname):        \n",
    "        bandSelect = {\n",
    "            'B1':PredefinedWavelengths.LANDSAT_OLI_B1,\n",
    "            'B2':PredefinedWavelengths.LANDSAT_OLI_B2,\n",
    "            'B3':PredefinedWavelengths.LANDSAT_OLI_B3,\n",
    "            'B4':PredefinedWavelengths.LANDSAT_OLI_B4,\n",
    "            'B5':PredefinedWavelengths.LANDSAT_OLI_B5,\n",
    "            'B6':PredefinedWavelengths.LANDSAT_OLI_B6,\n",
    "            'B7':PredefinedWavelengths.LANDSAT_OLI_B7,\n",
    "            'B8':PredefinedWavelengths.LANDSAT_OLI_B8,\n",
    "            'B9':PredefinedWavelengths.LANDSAT_OLI_B9,\n",
    "                    }\n",
    "        return Wavelength(bandSelect[bandname])\n"
   ]
  },
  {
   "cell_type": "code",
   "execution_count": 129,
   "metadata": {},
   "outputs": [],
   "source": [
    "def toa_to_rad(bandname):\n",
    "        ESUN_L8 = [1895.33, 2004.57, 1820.75, 1549.49, 951.76, 247.55, 85.46, 1723.8, 366.97]\n",
    "        ESUN_BAND = {\n",
    "            'B1':ESUN_L8[0],\n",
    "            'B2':ESUN_L8[1],\n",
    "            'B3':ESUN_L8[2],\n",
    "            'B4':ESUN_L8[3],\n",
    "            'B5':ESUN_L8[4],\n",
    "            'B6':ESUN_L8[5],\n",
    "            'B7':ESUN_L8[6],\n",
    "            'B8':ESUN_L8[7],\n",
    "            'B9':ESUN_L8[8],\n",
    "            }\n",
    "        solar_elv = jh.getInfo()['properties']['SUN_ELEVATION']\n",
    "        solar_z = ee.Number(90).subtract(solar_elv).getInfo()\n",
    "        \n",
    "        ee_date = ee.Date('2018-05-01')\n",
    "        scene_date = datetime.datetime.utcfromtimestamp(ee_date.getInfo()['value']/1000)\n",
    "        solar_angle_correction = math.cos(math.radians(solar_z))\n",
    "        # Earth-Sun distance (from day of year)\n",
    "        day = scene_date.timetuple().tm_yday\n",
    "        d = 1 - 0.01672 * math.cos(0.9856 * (day-4))# http://physics.stackexchange.com/questions/177949/earth-sun-distance-on-a-given-day-of-the-year\n",
    "        # conversion factor\n",
    "        multiplier = ESUN_BAND[bandname]*solar_angle_correction/(math.pi*d**2)\n",
    "        # at-sensor radiance\n",
    "        rad = jh.select(bandname).multiply(multiplier)\n",
    "        return rad\n",
    "        "
   ]
  },
  {
   "cell_type": "code",
   "execution_count": 130,
   "metadata": {},
   "outputs": [],
   "source": [
    "def surface_reflectance(bandname):\n",
    "        # run 6S for this waveband\n",
    "        s = SixS()\n",
    "        s.wavelength = spectralResponseFunction(bandname)\n",
    "        s.run()\n",
    "        # extract 6S outputs\n",
    "        Edir = s.outputs.direct_solar_irradiance             #direct solar irradiance\n",
    "        Edif = s.outputs.diffuse_solar_irradiance            #diffuse solar irradiance\n",
    "        Lp   = s.outputs.atmospheric_intrinsic_radiance      #path radiance\n",
    "        absorb  = s.outputs.trans['global_gas'].upward       #absorption transmissivity\n",
    "        scatter = s.outputs.trans['total_scattering'].upward #scattering transmissivity\n",
    "        tau2 = absorb*scatter                                #total transmissivity\n",
    "\n",
    "        # radiance to surface reflectance\n",
    "        rad = toa_to_rad(bandname)\n",
    "        ref = rad.subtract(Lp).multiply(math.pi).divide(tau2*(Edir+Edif))\n",
    "        return ref\n"
   ]
  },
  {
   "cell_type": "code",
   "execution_count": 131,
   "metadata": {},
   "outputs": [],
   "source": [
    "ca  = surface_reflectance('B1')\n",
    "blue = surface_reflectance('B2')\n",
    "green = surface_reflectance('B3')\n",
    "red = surface_reflectance('B4')\n",
    "nir = surface_reflectance('B5')\n",
    "swir1 = surface_reflectance('B6')\n",
    "swir2 = surface_reflectance('B7')\n",
    "\n",
    "ref = jh.select('BQA').addBands(ca).addBands(blue).addBands(green).addBands(red).addBands(nir).addBands(swir1).addBands(swir2)\n",
    "ee_date = ee.Date('2018-05-01')\n",
    "scene_date = datetime.datetime.utcfromtimestamp(ee_date.getInfo()['value']/1000)\n",
    "solar_elv = jh.getInfo()['properties']['SUN_ELEVATION']\n",
    "dateString = scene_date.strftime(\"%Y-%m-%d\")\n",
    "ref = ref.copyProperties(jh).set({              \n",
    "              'AC_date':dateString,\n",
    "            #   'AC_aerosol_optical_thickness':aot,\n",
    "            #   'AC_water_vapour':h2o,\n",
    "              'AC_version':'py6S',\n",
    "              'AC_contact':'tamsheelansari1@gmail.com',\n",
    "              # 'AC_ozone':o3\n",
    "            })\n",
    "\n",
    "\n"
   ]
  },
  {
   "cell_type": "code",
   "execution_count": 117,
   "metadata": {},
   "outputs": [],
   "source": [
    "# fname = ee.String(boa.get('system:index')).getInfo()\n",
    "# export = ee.batch.Export.image.toAsset({\n",
    "#     image= ref,\n",
    "#     description= 'L8_BOA',\n",
    "#     assetId = 'projects/ee-tamsheelansari1/assets/jharkhand'+'L8_BOA',\n",
    "#     region = jharkhand,\n",
    "#     scale = 30,\n",
    "#     maxPixels = 1e13\n",
    "#     })\n",
    "\n",
    "#     # # uncomment to run the export\n",
    "# export.start()\n",
    "# print('exporting ' +fname + '--->done')"
   ]
  },
  {
   "cell_type": "code",
   "execution_count": 134,
   "metadata": {},
   "outputs": [],
   "source": [
    "boa = ee.Image(func1(toa)) \n",
    "\n",
    "Map= geemap.Map()\n",
    "# Map = geemap.Map(center=[40,-100], zoom=4)\n",
    "Map.addLayer(boa,{'band':['B4','B3','B2'],'min':0,'max':0.30},'boa')\n",
    "Map.centerObject(jharkhand,8)"
   ]
  },
  {
   "cell_type": "code",
   "execution_count": 135,
   "metadata": {},
   "outputs": [
    {
     "data": {
      "application/vnd.jupyter.widget-view+json": {
       "model_id": "c8d10763e9274d62a4e28f76833bcfd1",
       "version_major": 2,
       "version_minor": 0
      },
      "text/plain": [
       "Map(center=[23.653915918218225, 85.5539359645643], controls=(WidgetControl(options=['position', 'transparent_b…"
      ]
     },
     "metadata": {},
     "output_type": "display_data"
    }
   ],
   "source": [
    "Map"
   ]
  },
  {
   "cell_type": "code",
   "execution_count": 136,
   "metadata": {},
   "outputs": [
    {
     "name": "stdout",
     "output_type": "stream",
     "text": [
      "ee.Image({\n",
      "  \"functionInvocationValue\": {\n",
      "    \"functionName\": \"Image.mask\",\n",
      "    \"arguments\": {\n",
      "      \"image\": {\n",
      "        \"functionInvocationValue\": {\n",
      "          \"functionName\": \"Image.constant\",\n",
      "          \"arguments\": {\n",
      "            \"value\": {\n",
      "              \"constantValue\": 0\n",
      "            }\n",
      "          }\n",
      "        }\n",
      "      },\n",
      "      \"mask\": {\n",
      "        \"functionInvocationValue\": {\n",
      "          \"functionName\": \"Image.constant\",\n",
      "          \"arguments\": {\n",
      "            \"value\": {\n",
      "              \"constantValue\": 0\n",
      "            }\n",
      "          }\n",
      "        }\n",
      "      }\n",
      "    }\n",
      "  }\n",
      "})\n"
     ]
    }
   ],
   "source": [
    "print(boa)"
   ]
  },
  {
   "cell_type": "code",
   "execution_count": null,
   "metadata": {},
   "outputs": [],
   "source": []
  }
 ],
 "metadata": {
  "kernelspec": {
   "display_name": "geo",
   "language": "python",
   "name": "python3"
  },
  "language_info": {
   "codemirror_mode": {
    "name": "ipython",
    "version": 3
   },
   "file_extension": ".py",
   "mimetype": "text/x-python",
   "name": "python",
   "nbconvert_exporter": "python",
   "pygments_lexer": "ipython3",
   "version": "3.9.0"
  },
  "orig_nbformat": 4
 },
 "nbformat": 4,
 "nbformat_minor": 2
}
