{
 "cells": [
  {
   "cell_type": "code",
   "execution_count": 1,
   "metadata": {},
   "outputs": [],
   "source": [
    "import ee\n",
    "import geemap"
   ]
  },
  {
   "cell_type": "code",
   "execution_count": 3,
   "metadata": {},
   "outputs": [
    {
     "data": {
      "application/vnd.jupyter.widget-view+json": {
       "model_id": "51f9e9ccd3ad4313bc36f9d4076722b8",
       "version_major": 2,
       "version_minor": 0
      },
      "text/plain": [
       "Map(center=[40, -100], controls=(WidgetControl(options=['position', 'transparent_bg'], widget=HBox(children=(T…"
      ]
     },
     "metadata": {},
     "output_type": "display_data"
    }
   ],
   "source": [
    "Map = geemap.Map(center=[40,-100], zoom=4)\n",
    "Map"
   ]
  },
  {
   "cell_type": "code",
   "execution_count": 2,
   "metadata": {},
   "outputs": [
    {
     "ename": "EEException",
     "evalue": "Earth Engine client library not initialized. Run `ee.Initialize()`",
     "output_type": "error",
     "traceback": [
      "\u001b[1;31m---------------------------------------------------------------------------\u001b[0m",
      "\u001b[1;31mEEException\u001b[0m                               Traceback (most recent call last)",
      "Cell \u001b[1;32mIn[2], line 3\u001b[0m\n\u001b[0;32m      1\u001b[0m \u001b[39m# Add Earth Engine dataset\u001b[39;00m\n\u001b[0;32m      2\u001b[0m \u001b[39m# Create a geodesic polygon.\u001b[39;00m\n\u001b[1;32m----> 3\u001b[0m polygon \u001b[39m=\u001b[39m ee\u001b[39m.\u001b[39;49mGeometry\u001b[39m.\u001b[39;49mPolygon([\n\u001b[0;32m      4\u001b[0m   [[\u001b[39m-\u001b[39;49m\u001b[39m5\u001b[39;49m, \u001b[39m40\u001b[39;49m], [\u001b[39m65\u001b[39;49m, \u001b[39m40\u001b[39;49m], [\u001b[39m65\u001b[39;49m, \u001b[39m60\u001b[39;49m], [\u001b[39m-\u001b[39;49m\u001b[39m5\u001b[39;49m, \u001b[39m60\u001b[39;49m], [\u001b[39m-\u001b[39;49m\u001b[39m5\u001b[39;49m, \u001b[39m60\u001b[39;49m]]\n\u001b[0;32m      5\u001b[0m ])\n\u001b[0;32m      7\u001b[0m \u001b[39m# Compute a buffer of the polygon.\u001b[39;00m\n\u001b[0;32m      8\u001b[0m buffer \u001b[39m=\u001b[39m polygon\u001b[39m.\u001b[39mbuffer(\u001b[39m0.1\u001b[39m)\n",
      "File \u001b[1;32mc:\\Users\\tamsh\\anaconda3\\envs\\geo\\lib\\site-packages\\ee\\geometry.py:517\u001b[0m, in \u001b[0;36mGeometry.Polygon\u001b[1;34m(coords, proj, geodesic, maxError, evenOdd, *args)\u001b[0m\n\u001b[0;32m    485\u001b[0m \u001b[39m\"\"\"Constructs an ee.Geometry describing a polygon.\u001b[39;00m\n\u001b[0;32m    486\u001b[0m \n\u001b[0;32m    487\u001b[0m \u001b[39mArgs:\u001b[39;00m\n\u001b[1;32m   (...)\u001b[0m\n\u001b[0;32m    513\u001b[0m \u001b[39m  An ee.Geometry describing a polygon.\u001b[39;00m\n\u001b[0;32m    514\u001b[0m \u001b[39m\"\"\"\u001b[39;00m\n\u001b[0;32m    515\u001b[0m all_args \u001b[39m=\u001b[39m Geometry\u001b[39m.\u001b[39m_GetSpecifiedArgs((coords, proj, geodesic, maxError,\n\u001b[0;32m    516\u001b[0m                                        evenOdd) \u001b[39m+\u001b[39m args)\n\u001b[1;32m--> 517\u001b[0m \u001b[39mreturn\u001b[39;00m Geometry(Geometry\u001b[39m.\u001b[39;49m_parseArgs(\u001b[39m'\u001b[39;49m\u001b[39mPolygon\u001b[39;49m\u001b[39m'\u001b[39;49m, \u001b[39m3\u001b[39;49m, all_args))\n",
      "File \u001b[1;32mc:\\Users\\tamsh\\anaconda3\\envs\\geo\\lib\\site-packages\\ee\\computedobject.py:31\u001b[0m, in \u001b[0;36mComputedObjectMetaclass.__call__\u001b[1;34m(cls, *args, **kwargs)\u001b[0m\n\u001b[0;32m     29\u001b[0m   \u001b[39mreturn\u001b[39;00m args[\u001b[39m0\u001b[39m]\n\u001b[0;32m     30\u001b[0m \u001b[39melse\u001b[39;00m:\n\u001b[1;32m---> 31\u001b[0m   \u001b[39mreturn\u001b[39;00m \u001b[39mtype\u001b[39m\u001b[39m.\u001b[39m\u001b[39m__call__\u001b[39m(\u001b[39mcls\u001b[39m, \u001b[39m*\u001b[39margs, \u001b[39m*\u001b[39m\u001b[39m*\u001b[39mkwargs)\n",
      "File \u001b[1;32mc:\\Users\\tamsh\\anaconda3\\envs\\geo\\lib\\site-packages\\ee\\geometry.py:65\u001b[0m, in \u001b[0;36mGeometry.__init__\u001b[1;34m(self, geo_json, opt_proj, opt_geodesic, opt_evenOdd)\u001b[0m\n\u001b[0;32m     33\u001b[0m \u001b[39mdef\u001b[39;00m \u001b[39m__init__\u001b[39m(\u001b[39mself\u001b[39m,\n\u001b[0;32m     34\u001b[0m              geo_json,\n\u001b[0;32m     35\u001b[0m              opt_proj\u001b[39m=\u001b[39m\u001b[39mNone\u001b[39;00m,\n\u001b[0;32m     36\u001b[0m              opt_geodesic\u001b[39m=\u001b[39m\u001b[39mNone\u001b[39;00m,\n\u001b[0;32m     37\u001b[0m              opt_evenOdd\u001b[39m=\u001b[39m\u001b[39mNone\u001b[39;00m):\n\u001b[0;32m     38\u001b[0m   \u001b[39m\"\"\"Creates a geometry.\u001b[39;00m\n\u001b[0;32m     39\u001b[0m \n\u001b[0;32m     40\u001b[0m \u001b[39m  Args:\u001b[39;00m\n\u001b[1;32m   (...)\u001b[0m\n\u001b[0;32m     63\u001b[0m \u001b[39m    EEException: if the given geometry isn't valid.\u001b[39;00m\n\u001b[0;32m     64\u001b[0m \u001b[39m  \"\"\"\u001b[39;00m\n\u001b[1;32m---> 65\u001b[0m   \u001b[39mself\u001b[39;49m\u001b[39m.\u001b[39;49minitialize()\n\u001b[0;32m     67\u001b[0m   computed \u001b[39m=\u001b[39m (\n\u001b[0;32m     68\u001b[0m       \u001b[39misinstance\u001b[39m(geo_json, computedobject\u001b[39m.\u001b[39mComputedObject) \u001b[39mand\u001b[39;00m\n\u001b[0;32m     69\u001b[0m       \u001b[39mnot\u001b[39;00m (\u001b[39misinstance\u001b[39m(geo_json, Geometry) \u001b[39mand\u001b[39;00m geo_json\u001b[39m.\u001b[39m_type \u001b[39mis\u001b[39;00m \u001b[39mnot\u001b[39;00m \u001b[39mNone\u001b[39;00m))  \u001b[39m# pylint: disable=protected-access\u001b[39;00m\n\u001b[0;32m     70\u001b[0m   options \u001b[39m=\u001b[39m opt_proj \u001b[39mor\u001b[39;00m opt_geodesic \u001b[39mor\u001b[39;00m opt_evenOdd\n",
      "File \u001b[1;32mc:\\Users\\tamsh\\anaconda3\\envs\\geo\\lib\\site-packages\\ee\\geometry.py:156\u001b[0m, in \u001b[0;36mGeometry.initialize\u001b[1;34m(cls)\u001b[0m\n\u001b[0;32m    154\u001b[0m \u001b[39m\"\"\"Imports API functions to this class.\"\"\"\u001b[39;00m\n\u001b[0;32m    155\u001b[0m \u001b[39mif\u001b[39;00m \u001b[39mnot\u001b[39;00m \u001b[39mcls\u001b[39m\u001b[39m.\u001b[39m_initialized:\n\u001b[1;32m--> 156\u001b[0m   apifunction\u001b[39m.\u001b[39;49mApiFunction\u001b[39m.\u001b[39;49mimportApi(\u001b[39mcls\u001b[39;49m, \u001b[39m'\u001b[39;49m\u001b[39mGeometry\u001b[39;49m\u001b[39m'\u001b[39;49m, \u001b[39m'\u001b[39;49m\u001b[39mGeometry\u001b[39;49m\u001b[39m'\u001b[39;49m)\n\u001b[0;32m    157\u001b[0m   \u001b[39mcls\u001b[39m\u001b[39m.\u001b[39m_initialized \u001b[39m=\u001b[39m \u001b[39mTrue\u001b[39;00m\n",
      "File \u001b[1;32mc:\\Users\\tamsh\\anaconda3\\envs\\geo\\lib\\site-packages\\ee\\apifunction.py:183\u001b[0m, in \u001b[0;36mApiFunction.importApi\u001b[1;34m(cls, target, prefix, type_name, opt_prepend)\u001b[0m\n\u001b[0;32m    170\u001b[0m \u001b[39m@classmethod\u001b[39m\n\u001b[0;32m    171\u001b[0m \u001b[39mdef\u001b[39;00m \u001b[39mimportApi\u001b[39m(\u001b[39mcls\u001b[39m, target, prefix, type_name, opt_prepend\u001b[39m=\u001b[39m\u001b[39mNone\u001b[39;00m):\n\u001b[0;32m    172\u001b[0m   \u001b[39m\"\"\"Adds all API functions that begin with a given prefix to a target class.\u001b[39;00m\n\u001b[0;32m    173\u001b[0m \n\u001b[0;32m    174\u001b[0m \u001b[39m  Args:\u001b[39;00m\n\u001b[1;32m   (...)\u001b[0m\n\u001b[0;32m    181\u001b[0m \u001b[39m        added functions.\u001b[39;00m\n\u001b[0;32m    182\u001b[0m \u001b[39m  \"\"\"\u001b[39;00m\n\u001b[1;32m--> 183\u001b[0m   \u001b[39mcls\u001b[39;49m\u001b[39m.\u001b[39;49minitialize()\n\u001b[0;32m    184\u001b[0m   prepend \u001b[39m=\u001b[39m opt_prepend \u001b[39mor\u001b[39;00m \u001b[39m'\u001b[39m\u001b[39m'\u001b[39m\n\u001b[0;32m    185\u001b[0m   \u001b[39mfor\u001b[39;00m name, api_func \u001b[39min\u001b[39;00m \u001b[39mcls\u001b[39m\u001b[39m.\u001b[39m_api\u001b[39m.\u001b[39mitems():\n",
      "File \u001b[1;32mc:\\Users\\tamsh\\anaconda3\\envs\\geo\\lib\\site-packages\\ee\\apifunction.py:154\u001b[0m, in \u001b[0;36mApiFunction.initialize\u001b[1;34m(cls)\u001b[0m\n\u001b[0;32m    152\u001b[0m \u001b[39m\"\"\"Initializes the list of signatures from the Earth Engine front-end.\"\"\"\u001b[39;00m\n\u001b[0;32m    153\u001b[0m \u001b[39mif\u001b[39;00m \u001b[39mnot\u001b[39;00m \u001b[39mcls\u001b[39m\u001b[39m.\u001b[39m_api:\n\u001b[1;32m--> 154\u001b[0m   signatures \u001b[39m=\u001b[39m data\u001b[39m.\u001b[39;49mgetAlgorithms()\n\u001b[0;32m    155\u001b[0m   api \u001b[39m=\u001b[39m {}\n\u001b[0;32m    156\u001b[0m   \u001b[39mfor\u001b[39;00m name, sig \u001b[39min\u001b[39;00m signatures\u001b[39m.\u001b[39mitems():\n\u001b[0;32m    157\u001b[0m     \u001b[39m# Strip type parameters.\u001b[39;00m\n",
      "File \u001b[1;32mc:\\Users\\tamsh\\anaconda3\\envs\\geo\\lib\\site-packages\\ee\\data.py:1237\u001b[0m, in \u001b[0;36mgetAlgorithms\u001b[1;34m()\u001b[0m\n\u001b[0;32m   1221\u001b[0m \u001b[39m\"\"\"Get the list of algorithms.\u001b[39;00m\n\u001b[0;32m   1222\u001b[0m \n\u001b[0;32m   1223\u001b[0m \u001b[39mReturns:\u001b[39;00m\n\u001b[1;32m   (...)\u001b[0m\n\u001b[0;32m   1234\u001b[0m \u001b[39m              is not specified.\u001b[39;00m\n\u001b[0;32m   1235\u001b[0m \u001b[39m\"\"\"\u001b[39;00m\n\u001b[0;32m   1236\u001b[0m \u001b[39mtry\u001b[39;00m:\n\u001b[1;32m-> 1237\u001b[0m   call \u001b[39m=\u001b[39m _get_cloud_api_resource()\u001b[39m.\u001b[39mprojects()\u001b[39m.\u001b[39malgorithms()\u001b[39m.\u001b[39mlist(\n\u001b[0;32m   1238\u001b[0m       parent\u001b[39m=\u001b[39m_get_projects_path(), prettyPrint\u001b[39m=\u001b[39m\u001b[39mFalse\u001b[39;00m)\n\u001b[0;32m   1239\u001b[0m \u001b[39mexcept\u001b[39;00m \u001b[39mTypeError\u001b[39;00m:\n\u001b[0;32m   1240\u001b[0m   call \u001b[39m=\u001b[39m _get_cloud_api_resource()\u001b[39m.\u001b[39mprojects()\u001b[39m.\u001b[39malgorithms()\u001b[39m.\u001b[39mlist(\n\u001b[0;32m   1241\u001b[0m       project\u001b[39m=\u001b[39m_get_projects_path(), prettyPrint\u001b[39m=\u001b[39m\u001b[39mFalse\u001b[39;00m)\n",
      "File \u001b[1;32mc:\\Users\\tamsh\\anaconda3\\envs\\geo\\lib\\site-packages\\ee\\data.py:283\u001b[0m, in \u001b[0;36m_get_cloud_api_resource\u001b[1;34m()\u001b[0m\n\u001b[0;32m    281\u001b[0m \u001b[39mdef\u001b[39;00m \u001b[39m_get_cloud_api_resource\u001b[39m():\n\u001b[0;32m    282\u001b[0m   \u001b[39mif\u001b[39;00m _cloud_api_resource \u001b[39mis\u001b[39;00m \u001b[39mNone\u001b[39;00m:\n\u001b[1;32m--> 283\u001b[0m     \u001b[39mraise\u001b[39;00m ee_exception\u001b[39m.\u001b[39mEEException(\n\u001b[0;32m    284\u001b[0m         \u001b[39m'\u001b[39m\u001b[39mEarth Engine client library not initialized. Run `ee.Initialize()`\u001b[39m\u001b[39m'\u001b[39m)\n\u001b[0;32m    285\u001b[0m   \u001b[39mreturn\u001b[39;00m _cloud_api_resource\n",
      "\u001b[1;31mEEException\u001b[0m: Earth Engine client library not initialized. Run `ee.Initialize()`"
     ]
    }
   ],
   "source": [
    "# Add Earth Engine dataset\n",
    "# Create a geodesic polygon.\n",
    "polygon = ee.Geometry.Polygon([\n",
    "  [[-5, 40], [65, 40], [65, 60], [-5, 60], [-5, 60]]\n",
    "])\n",
    "\n",
    "# Compute a buffer of the polygon.\n",
    "buffer = polygon.buffer(0.1)\n",
    "\n",
    "# Compute the centroid of the polygon.\n",
    "centroid = polygon.centroid()\n",
    "Map.addLayer(buffer, {}, 'buffer')\n",
    "Map.addLayer(centroid, {'color': 'red'}, 'centroid')\n"
   ]
  },
  {
   "cell_type": "code",
   "execution_count": null,
   "metadata": {},
   "outputs": [],
   "source": []
  }
 ],
 "metadata": {
  "kernelspec": {
   "display_name": "geo",
   "language": "python",
   "name": "python3"
  },
  "language_info": {
   "codemirror_mode": {
    "name": "ipython",
    "version": 3
   },
   "file_extension": ".py",
   "mimetype": "text/x-python",
   "name": "python",
   "nbconvert_exporter": "python",
   "pygments_lexer": "ipython3",
   "version": "3.9.0"
  },
  "orig_nbformat": 4
 },
 "nbformat": 4,
 "nbformat_minor": 2
}
